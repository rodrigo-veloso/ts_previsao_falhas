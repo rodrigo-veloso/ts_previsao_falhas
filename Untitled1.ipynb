{
 "cells": [
  {
   "cell_type": "code",
   "execution_count": 17,
   "id": "nominated-military",
   "metadata": {},
   "outputs": [],
   "source": [
    "from ortools.linear_solver import pywraplp\n",
    "import numpy as np"
   ]
  },
  {
   "cell_type": "code",
   "execution_count": 3,
   "id": "sunrise-powder",
   "metadata": {},
   "outputs": [],
   "source": [
    "num_fabricas = 4\n",
    "\n",
    "total_carros = 1000\n",
    "\n",
    "custo_unitario = [15,10,9,7]\n",
    "\n",
    "horas_mao_obra = [2,3,4,5]\n",
    "\n",
    "materia_prima = [3,4,5,6]"
   ]
  },
  {
   "cell_type": "code",
   "execution_count": 14,
   "id": "shaped-stephen",
   "metadata": {},
   "outputs": [
    {
     "data": {
      "text/plain": [
       "<ortools.linear_solver.pywraplp.Constraint; proxy of <Swig Object of type 'operations_research::MPConstraint *' at 0x7f8f8438b270> >"
      ]
     },
     "execution_count": 14,
     "metadata": {},
     "output_type": "execute_result"
    }
   ],
   "source": [
    "modelo = pywraplp.Solver('Fabrica',pywraplp.Solver.CBC_MIXED_INTEGER_PROGRAMMING)\n",
    "\n",
    "fabrica = []\n",
    "for i in range(num_fabricas):\n",
    "    fabrica.append(modelo.IntVar(0,total_carros,'fabrica'+str(i)))\n",
    "    \n",
    "custo_producao = modelo.Sum([custo_unitario[i]*fabrica[i] for i in range(num_fabricas)])\n",
    "objetivo = modelo.Minimize(custo_producao)\n",
    "\n",
    "modelo.Add(fabrica[2]>=250)\n",
    "modelo.Add(modelo.Sum([horas_mao_obra[i]*fabrica[i] for i in range(num_fabricas)])<=3200)\n",
    "modelo.Add(modelo.Sum([materia_prima[i]*fabrica[i] for i in range(num_fabricas)])<=4000)\n",
    "modelo.Add(modelo.Sum(fabrica)==1000)"
   ]
  },
  {
   "cell_type": "code",
   "execution_count": 15,
   "id": "directed-formula",
   "metadata": {},
   "outputs": [
    {
     "name": "stdout",
     "output_type": "stream",
     "text": [
      "11000.0\n",
      "250.0\n",
      "500.0\n",
      "250.0\n",
      "0.0\n"
     ]
    }
   ],
   "source": [
    "status = modelo.Solve()\n",
    "print(modelo.Objective().Value())\n",
    "for fabric in fabrica:\n",
    "    print(fabric.SolutionValue())"
   ]
  },
  {
   "cell_type": "code",
   "execution_count": 22,
   "id": "large-decrease",
   "metadata": {},
   "outputs": [],
   "source": [
    "scores = np.array([[13,5,10,7,11,1,12,5],\n",
    "                  [8,7,1,11,11,0,0,1],\n",
    "                  [4,6,9,8,11,6,7,11],\n",
    "                  [13,5,11,1,7,10,11,5],\n",
    "                  [11,9,5,1,6,3,1,3],\n",
    "                  [9,11,8,14,7,5,6,1],\n",
    "                  [9,2,5,4,9,0,10,1],\n",
    "                  [14,2,13,3,10,6,11,10],\n",
    "                  [6,0,14,5,11,5,1,0],\n",
    "                  [10,5,0,14,5,9,6,10],\n",
    "                  [12,6,11,7,0,13,3,5],\n",
    "                  [12,7,4,4,13,10,12,14],\n",
    "                  [9,5,7,1,8,5,9,13],\n",
    "                  [11,9,5,6,2,1,1,2],\n",
    "                  [10,1,0,3,13,12,14,7],\n",
    "                  [3,4,4,0,5,8,1,11],\n",
    "                  [0,12,2,14,10,14,7,5],\n",
    "                  [10,12,14,4,4,1,9,11],\n",
    "                  [2,6,1,10,11,8,4,4],\n",
    "                  [11,10,10,6,4,6,5,3]])\n",
    "\n",
    "numero_clientes = scores.shape[0]\n",
    "numero_produtos = scores.shape[1]\n",
    "\n",
    "estoque = np.array([2,1,3,0,10,4,2,4])"
   ]
  },
  {
   "cell_type": "code",
   "execution_count": 32,
   "id": "serial-glance",
   "metadata": {},
   "outputs": [],
   "source": [
    "modelo = pywraplp.Solver('Recomendacao',pywraplp.Solver.CBC_MIXED_INTEGER_PROGRAMMING)\n",
    "\n",
    "recomendacoes = {}\n",
    "for i in range(numero_clientes):\n",
    "    for j in range(numero_produtos):\n",
    "        recomendacoes[i,j] = modelo.BoolVar('recomendacao'+str(i)+str(j))\n",
    "\n",
    "objetivo = modelo.Maximize(modelo.Sum(scores[i,j]*recomendacoes[i,j] for i in range(numero_clientes) for j in range(numero_produtos)))\n",
    "\n",
    "for i in range(numero_clientes):\n",
    "    modelo.Add(modelo.Sum([recomendacoes[i,j] for j in range(numero_produtos)]) <= 1)\n",
    "\n",
    "for j in range(numero_produtos):\n",
    "    modelo.Add(modelo.Sum([recomendacoes[i,j] for i in range(numero_clientes)]) <= estoque[j])"
   ]
  },
  {
   "cell_type": "code",
   "execution_count": 33,
   "id": "wanted-leisure",
   "metadata": {},
   "outputs": [
    {
     "data": {
      "text/plain": [
       "0"
      ]
     },
     "execution_count": 33,
     "metadata": {},
     "output_type": "execute_result"
    }
   ],
   "source": [
    "modelo.Solve()"
   ]
  },
  {
   "cell_type": "code",
   "execution_count": 34,
   "id": "educational-julian",
   "metadata": {},
   "outputs": [
    {
     "name": "stdout",
     "output_type": "stream",
     "text": [
      "Total score: 234.0\n",
      "Produto 4 recomendado para cliente 0\n",
      "Produto 4 recomendado para cliente 1\n",
      "Produto 4 recomendado para cliente 2\n",
      "Produto 5 recomendado para cliente 3\n",
      "Produto 0 recomendado para cliente 4\n",
      "Produto 1 recomendado para cliente 5\n",
      "Produto 6 recomendado para cliente 6\n",
      "Produto 6 recomendado para cliente 7\n",
      "Produto 2 recomendado para cliente 8\n",
      "Produto 7 recomendado para cliente 9\n",
      "Produto 5 recomendado para cliente 10\n",
      "Produto 7 recomendado para cliente 11\n",
      "Produto 7 recomendado para cliente 12\n",
      "Produto 0 recomendado para cliente 13\n",
      "Produto 4 recomendado para cliente 14\n",
      "Produto 7 recomendado para cliente 15\n",
      "Produto 5 recomendado para cliente 16\n",
      "Produto 2 recomendado para cliente 17\n",
      "Produto 4 recomendado para cliente 18\n",
      "Produto 2 recomendado para cliente 19\n"
     ]
    }
   ],
   "source": [
    "print('Total score: '+str(modelo.Objective().Value()))\n",
    "\n",
    "for i in range(numero_clientes):\n",
    "    for j in range(numero_produtos):\n",
    "        if recomendacoes[i,j].solution_value() > 0:\n",
    "            print('Produto '+str(j)+' recomendado para cliente '+str(i))"
   ]
  },
  {
   "cell_type": "code",
   "execution_count": null,
   "id": "minimal-rubber",
   "metadata": {},
   "outputs": [],
   "source": []
  }
 ],
 "metadata": {
  "kernelspec": {
   "display_name": "Python 3",
   "language": "python",
   "name": "python3"
  },
  "language_info": {
   "codemirror_mode": {
    "name": "ipython",
    "version": 3
   },
   "file_extension": ".py",
   "mimetype": "text/x-python",
   "name": "python",
   "nbconvert_exporter": "python",
   "pygments_lexer": "ipython3",
   "version": "3.8.5"
  }
 },
 "nbformat": 4,
 "nbformat_minor": 5
}
